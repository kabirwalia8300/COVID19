{
  "nbformat": 4,
  "nbformat_minor": 0,
  "metadata": {
    "colab": {
      "name": "β_estimationSIR_model.ipynb",
      "provenance": [],
      "collapsed_sections": [],
      "include_colab_link": true
    },
    "kernelspec": {
      "display_name": "Python 3",
      "language": "python",
      "name": "python3"
    },
    "language_info": {
      "codemirror_mode": {
        "name": "ipython",
        "version": 3
      },
      "file_extension": ".py",
      "mimetype": "text/x-python",
      "name": "python",
      "nbconvert_exporter": "python",
      "pygments_lexer": "ipython3",
      "version": "3.7.3"
    }
  },
  "cells": [
    {
      "cell_type": "markdown",
      "metadata": {
        "id": "view-in-github",
        "colab_type": "text"
      },
      "source": [
        "<a href=\"https://colab.research.google.com/github/kabirwalia8300/COVID19_Timeseries/blob/master/%CE%B2_estimationSIR_model.ipynb\" target=\"_parent\"><img src=\"https://colab.research.google.com/assets/colab-badge.svg\" alt=\"Open In Colab\"/></a>"
      ]
    },
    {
      "cell_type": "markdown",
      "metadata": {
        "id": "qdrk1Mmm-MVa",
        "colab_type": "text"
      },
      "source": [
        "# Identifying time-dependent β in the SIR model using difference equations"
      ]
    },
    {
      "cell_type": "markdown",
      "metadata": {
        "id": "liAsiusX-MVb",
        "colab_type": "text"
      },
      "source": [
        "### Imports"
      ]
    },
    {
      "cell_type": "code",
      "metadata": {
        "colab_type": "code",
        "id": "veSbD3MIM8nY",
        "colab": {}
      },
      "source": [
        "import pandas as pd\n",
        "import numpy as np\n",
        "\n",
        "#scipy\n",
        "from scipy import stats as sps\n",
        "from scipy.interpolate import interp1d\n",
        "from scipy.optimize import curve_fit\n",
        "from datetime import timedelta, datetime\n",
        "\n",
        "#visualizations\n",
        "from matplotlib import pyplot as plt\n",
        "from matplotlib.dates import date2num, num2date\n",
        "from matplotlib import dates as mdates\n",
        "from matplotlib import ticker\n",
        "from matplotlib.colors import ListedColormap\n",
        "from matplotlib.patches import Patch"
      ],
      "execution_count": 0,
      "outputs": []
    },
    {
      "cell_type": "markdown",
      "metadata": {
        "id": "fzWfkWZt-MVe",
        "colab_type": "text"
      },
      "source": [
        "### Getting India's statewise data from Kaggle"
      ]
    },
    {
      "cell_type": "code",
      "metadata": {
        "id": "mM8rGQig-MVf",
        "colab_type": "code",
        "colab": {},
        "outputId": "f5a3a810-fca1-43aa-8e5b-cd46d2f18b1e"
      },
      "source": [
        "# source: https://www.kaggle.com/sudalairajkumar/covid19-in-india\n",
        "india = pd.read_csv(\"covid_19_india.csv\", usecols=['Date', 'State/UnionTerritory', 'Cured', 'Deaths', 'Confirmed'])\n",
        "india.tail()"
      ],
      "execution_count": 0,
      "outputs": [
        {
          "output_type": "execute_result",
          "data": {
            "text/html": [
              "<div>\n",
              "<style scoped>\n",
              "    .dataframe tbody tr th:only-of-type {\n",
              "        vertical-align: middle;\n",
              "    }\n",
              "\n",
              "    .dataframe tbody tr th {\n",
              "        vertical-align: top;\n",
              "    }\n",
              "\n",
              "    .dataframe thead th {\n",
              "        text-align: right;\n",
              "    }\n",
              "</style>\n",
              "<table border=\"1\" class=\"dataframe\">\n",
              "  <thead>\n",
              "    <tr style=\"text-align: right;\">\n",
              "      <th></th>\n",
              "      <th>Date</th>\n",
              "      <th>State/UnionTerritory</th>\n",
              "      <th>Cured</th>\n",
              "      <th>Deaths</th>\n",
              "      <th>Confirmed</th>\n",
              "    </tr>\n",
              "  </thead>\n",
              "  <tbody>\n",
              "    <tr>\n",
              "      <th>1313</th>\n",
              "      <td>25/04/20</td>\n",
              "      <td>Telengana</td>\n",
              "      <td>253</td>\n",
              "      <td>26</td>\n",
              "      <td>984</td>\n",
              "    </tr>\n",
              "    <tr>\n",
              "      <th>1314</th>\n",
              "      <td>25/04/20</td>\n",
              "      <td>Tripura</td>\n",
              "      <td>1</td>\n",
              "      <td>0</td>\n",
              "      <td>2</td>\n",
              "    </tr>\n",
              "    <tr>\n",
              "      <th>1315</th>\n",
              "      <td>25/04/20</td>\n",
              "      <td>Uttarakhand</td>\n",
              "      <td>25</td>\n",
              "      <td>0</td>\n",
              "      <td>48</td>\n",
              "    </tr>\n",
              "    <tr>\n",
              "      <th>1316</th>\n",
              "      <td>25/04/20</td>\n",
              "      <td>Uttar Pradesh</td>\n",
              "      <td>248</td>\n",
              "      <td>26</td>\n",
              "      <td>1778</td>\n",
              "    </tr>\n",
              "    <tr>\n",
              "      <th>1317</th>\n",
              "      <td>25/04/20</td>\n",
              "      <td>West Bengal</td>\n",
              "      <td>103</td>\n",
              "      <td>18</td>\n",
              "      <td>571</td>\n",
              "    </tr>\n",
              "  </tbody>\n",
              "</table>\n",
              "</div>"
            ],
            "text/plain": [
              "          Date State/UnionTerritory  Cured  Deaths  Confirmed\n",
              "1313  25/04/20            Telengana    253      26        984\n",
              "1314  25/04/20              Tripura      1       0          2\n",
              "1315  25/04/20          Uttarakhand     25       0         48\n",
              "1316  25/04/20        Uttar Pradesh    248      26       1778\n",
              "1317  25/04/20          West Bengal    103      18        571"
            ]
          },
          "metadata": {
            "tags": []
          },
          "execution_count": 2
        }
      ]
    },
    {
      "cell_type": "markdown",
      "metadata": {
        "id": "ypyoNBxt-MVh",
        "colab_type": "text"
      },
      "source": [
        "Cured, Deaths and Confirmed data is cumulative"
      ]
    },
    {
      "cell_type": "code",
      "metadata": {
        "id": "5QMo_la0-MVi",
        "colab_type": "code",
        "colab": {}
      },
      "source": [
        "def getCleanedStateData(state, df):\n",
        "    df = df.loc[df['State/UnionTerritory']==state]\n",
        "    return df\n"
      ],
      "execution_count": 0,
      "outputs": []
    },
    {
      "cell_type": "markdown",
      "metadata": {
        "id": "9tVMhhey-MVk",
        "colab_type": "text"
      },
      "source": [
        "# State: Maharashtra"
      ]
    },
    {
      "cell_type": "code",
      "metadata": {
        "id": "F_LTmd8x-MVk",
        "colab_type": "code",
        "colab": {},
        "outputId": "20e22142-cc0e-4953-de43-d08809393195"
      },
      "source": [
        "state = getCleanedStateData('Maharashtra', india)\n",
        "# state['Date'] = pd.to_datetime(state['Date'])\n",
        "state = state.set_index('Date')\n",
        "state.head()"
      ],
      "execution_count": 0,
      "outputs": [
        {
          "output_type": "execute_result",
          "data": {
            "text/html": [
              "<div>\n",
              "<style scoped>\n",
              "    .dataframe tbody tr th:only-of-type {\n",
              "        vertical-align: middle;\n",
              "    }\n",
              "\n",
              "    .dataframe tbody tr th {\n",
              "        vertical-align: top;\n",
              "    }\n",
              "\n",
              "    .dataframe thead th {\n",
              "        text-align: right;\n",
              "    }\n",
              "</style>\n",
              "<table border=\"1\" class=\"dataframe\">\n",
              "  <thead>\n",
              "    <tr style=\"text-align: right;\">\n",
              "      <th></th>\n",
              "      <th>State/UnionTerritory</th>\n",
              "      <th>Cured</th>\n",
              "      <th>Deaths</th>\n",
              "      <th>Confirmed</th>\n",
              "    </tr>\n",
              "    <tr>\n",
              "      <th>Date</th>\n",
              "      <th></th>\n",
              "      <th></th>\n",
              "      <th></th>\n",
              "      <th></th>\n",
              "    </tr>\n",
              "  </thead>\n",
              "  <tbody>\n",
              "    <tr>\n",
              "      <th>09/03/20</th>\n",
              "      <td>Maharashtra</td>\n",
              "      <td>0</td>\n",
              "      <td>0</td>\n",
              "      <td>2</td>\n",
              "    </tr>\n",
              "    <tr>\n",
              "      <th>10/03/20</th>\n",
              "      <td>Maharashtra</td>\n",
              "      <td>0</td>\n",
              "      <td>0</td>\n",
              "      <td>5</td>\n",
              "    </tr>\n",
              "    <tr>\n",
              "      <th>11/03/20</th>\n",
              "      <td>Maharashtra</td>\n",
              "      <td>0</td>\n",
              "      <td>0</td>\n",
              "      <td>2</td>\n",
              "    </tr>\n",
              "    <tr>\n",
              "      <th>12/03/20</th>\n",
              "      <td>Maharashtra</td>\n",
              "      <td>0</td>\n",
              "      <td>0</td>\n",
              "      <td>11</td>\n",
              "    </tr>\n",
              "    <tr>\n",
              "      <th>13/03/20</th>\n",
              "      <td>Maharashtra</td>\n",
              "      <td>0</td>\n",
              "      <td>0</td>\n",
              "      <td>14</td>\n",
              "    </tr>\n",
              "  </tbody>\n",
              "</table>\n",
              "</div>"
            ],
            "text/plain": [
              "         State/UnionTerritory  Cured  Deaths  Confirmed\n",
              "Date                                                   \n",
              "09/03/20          Maharashtra      0       0          2\n",
              "10/03/20          Maharashtra      0       0          5\n",
              "11/03/20          Maharashtra      0       0          2\n",
              "12/03/20          Maharashtra      0       0         11\n",
              "13/03/20          Maharashtra      0       0         14"
            ]
          },
          "metadata": {
            "tags": []
          },
          "execution_count": 4
        }
      ]
    },
    {
      "cell_type": "markdown",
      "metadata": {
        "id": "aLjDjc8P-MVm",
        "colab_type": "text"
      },
      "source": [
        "Function deltaInfected gives you the number infections that occur on a given day. Calculated by using data of the cumulative confirmations of the next day - cumulative confirmations of the current day."
      ]
    },
    {
      "cell_type": "code",
      "metadata": {
        "id": "F-c-GRl4-MVn",
        "colab_type": "code",
        "colab": {}
      },
      "source": [
        "def deltaInfected(df, col_name):\n",
        "    deltas = []\n",
        "    deltas.append(df[col_name][0])\n",
        "    for x in range(1,len(df)):\n",
        "        deltas.append(df[col_name][x] - df[col_name][x-1])\n",
        "    del deltas[0]\n",
        "    deltas.append(7628-6817) #checked that April 26 count is 7628\n",
        "    df['deltaInfected'] = deltas\n",
        "    return df\n",
        "# deltaInfected(state, 'Confirmed')"
      ],
      "execution_count": 0,
      "outputs": []
    },
    {
      "cell_type": "code",
      "metadata": {
        "id": "RLgEbYaR-MVp",
        "colab_type": "code",
        "colab": {},
        "outputId": "46274952-bdd9-4d79-fbce-4eb8e1db8bf2"
      },
      "source": [
        "state = deltaInfected(state, 'Confirmed')\n",
        "state.head()"
      ],
      "execution_count": 0,
      "outputs": [
        {
          "output_type": "execute_result",
          "data": {
            "text/html": [
              "<div>\n",
              "<style scoped>\n",
              "    .dataframe tbody tr th:only-of-type {\n",
              "        vertical-align: middle;\n",
              "    }\n",
              "\n",
              "    .dataframe tbody tr th {\n",
              "        vertical-align: top;\n",
              "    }\n",
              "\n",
              "    .dataframe thead th {\n",
              "        text-align: right;\n",
              "    }\n",
              "</style>\n",
              "<table border=\"1\" class=\"dataframe\">\n",
              "  <thead>\n",
              "    <tr style=\"text-align: right;\">\n",
              "      <th></th>\n",
              "      <th>State/UnionTerritory</th>\n",
              "      <th>Cured</th>\n",
              "      <th>Deaths</th>\n",
              "      <th>Confirmed</th>\n",
              "      <th>deltaInfected</th>\n",
              "    </tr>\n",
              "    <tr>\n",
              "      <th>Date</th>\n",
              "      <th></th>\n",
              "      <th></th>\n",
              "      <th></th>\n",
              "      <th></th>\n",
              "      <th></th>\n",
              "    </tr>\n",
              "  </thead>\n",
              "  <tbody>\n",
              "    <tr>\n",
              "      <th>09/03/20</th>\n",
              "      <td>Maharashtra</td>\n",
              "      <td>0</td>\n",
              "      <td>0</td>\n",
              "      <td>2</td>\n",
              "      <td>3</td>\n",
              "    </tr>\n",
              "    <tr>\n",
              "      <th>10/03/20</th>\n",
              "      <td>Maharashtra</td>\n",
              "      <td>0</td>\n",
              "      <td>0</td>\n",
              "      <td>5</td>\n",
              "      <td>-3</td>\n",
              "    </tr>\n",
              "    <tr>\n",
              "      <th>11/03/20</th>\n",
              "      <td>Maharashtra</td>\n",
              "      <td>0</td>\n",
              "      <td>0</td>\n",
              "      <td>2</td>\n",
              "      <td>9</td>\n",
              "    </tr>\n",
              "    <tr>\n",
              "      <th>12/03/20</th>\n",
              "      <td>Maharashtra</td>\n",
              "      <td>0</td>\n",
              "      <td>0</td>\n",
              "      <td>11</td>\n",
              "      <td>3</td>\n",
              "    </tr>\n",
              "    <tr>\n",
              "      <th>13/03/20</th>\n",
              "      <td>Maharashtra</td>\n",
              "      <td>0</td>\n",
              "      <td>0</td>\n",
              "      <td>14</td>\n",
              "      <td>0</td>\n",
              "    </tr>\n",
              "  </tbody>\n",
              "</table>\n",
              "</div>"
            ],
            "text/plain": [
              "         State/UnionTerritory  Cured  Deaths  Confirmed  deltaInfected\n",
              "Date                                                                  \n",
              "09/03/20          Maharashtra      0       0          2              3\n",
              "10/03/20          Maharashtra      0       0          5             -3\n",
              "11/03/20          Maharashtra      0       0          2              9\n",
              "12/03/20          Maharashtra      0       0         11              3\n",
              "13/03/20          Maharashtra      0       0         14              0"
            ]
          },
          "metadata": {
            "tags": []
          },
          "execution_count": 9
        }
      ]
    },
    {
      "cell_type": "code",
      "metadata": {
        "id": "sK82Hql8-MVs",
        "colab_type": "code",
        "colab": {},
        "outputId": "b810cc11-3e95-4f34-d902-c4f475c2e57b"
      },
      "source": [
        "state.plot(y='Confirmed', color = 'red', title = \"Number of Confirmed cases by date\")"
      ],
      "execution_count": 0,
      "outputs": [
        {
          "output_type": "execute_result",
          "data": {
            "text/plain": [
              "<matplotlib.axes._subplots.AxesSubplot at 0x1221d29b0>"
            ]
          },
          "metadata": {
            "tags": []
          },
          "execution_count": 12
        },
        {
          "output_type": "display_data",
          "data": {
            "image/png": "[encoded data removed]",
            "text/plain": [
              "<Figure size 432x288 with 1 Axes>"
            ]
          },
          "metadata": {
            "tags": [],
            "needs_background": "light"
          }
        }
      ]
    },
    {
      "cell_type": "code",
      "metadata": {
        "id": "0sarDOM9-MVu",
        "colab_type": "code",
        "colab": {},
        "outputId": "00b38f72-9201-4604-e1f8-dee9d7138622"
      },
      "source": [
        "state['Days'] = range(len(state))\n",
        "state.tail()"
      ],
      "execution_count": 0,
      "outputs": [
        {
          "output_type": "execute_result",
          "data": {
            "text/html": [
              "<div>\n",
              "<style scoped>\n",
              "    .dataframe tbody tr th:only-of-type {\n",
              "        vertical-align: middle;\n",
              "    }\n",
              "\n",
              "    .dataframe tbody tr th {\n",
              "        vertical-align: top;\n",
              "    }\n",
              "\n",
              "    .dataframe thead th {\n",
              "        text-align: right;\n",
              "    }\n",
              "</style>\n",
              "<table border=\"1\" class=\"dataframe\">\n",
              "  <thead>\n",
              "    <tr style=\"text-align: right;\">\n",
              "      <th></th>\n",
              "      <th>State/UnionTerritory</th>\n",
              "      <th>Cured</th>\n",
              "      <th>Deaths</th>\n",
              "      <th>Confirmed</th>\n",
              "      <th>deltaInfected</th>\n",
              "      <th>Days</th>\n",
              "    </tr>\n",
              "    <tr>\n",
              "      <th>Date</th>\n",
              "      <th></th>\n",
              "      <th></th>\n",
              "      <th></th>\n",
              "      <th></th>\n",
              "      <th></th>\n",
              "      <th></th>\n",
              "    </tr>\n",
              "  </thead>\n",
              "  <tbody>\n",
              "    <tr>\n",
              "      <th>21/04/20</th>\n",
              "      <td>Maharashtra</td>\n",
              "      <td>572</td>\n",
              "      <td>232</td>\n",
              "      <td>4669</td>\n",
              "      <td>552</td>\n",
              "      <td>43</td>\n",
              "    </tr>\n",
              "    <tr>\n",
              "      <th>22/04/20</th>\n",
              "      <td>Maharashtra</td>\n",
              "      <td>722</td>\n",
              "      <td>251</td>\n",
              "      <td>5221</td>\n",
              "      <td>431</td>\n",
              "      <td>44</td>\n",
              "    </tr>\n",
              "    <tr>\n",
              "      <th>23/04/20</th>\n",
              "      <td>Maharashtra</td>\n",
              "      <td>789</td>\n",
              "      <td>269</td>\n",
              "      <td>5652</td>\n",
              "      <td>778</td>\n",
              "      <td>45</td>\n",
              "    </tr>\n",
              "    <tr>\n",
              "      <th>24/04/20</th>\n",
              "      <td>Maharashtra</td>\n",
              "      <td>840</td>\n",
              "      <td>283</td>\n",
              "      <td>6430</td>\n",
              "      <td>387</td>\n",
              "      <td>46</td>\n",
              "    </tr>\n",
              "    <tr>\n",
              "      <th>25/04/20</th>\n",
              "      <td>Maharashtra</td>\n",
              "      <td>957</td>\n",
              "      <td>301</td>\n",
              "      <td>6817</td>\n",
              "      <td>811</td>\n",
              "      <td>47</td>\n",
              "    </tr>\n",
              "  </tbody>\n",
              "</table>\n",
              "</div>"
            ],
            "text/plain": [
              "         State/UnionTerritory  Cured  Deaths  Confirmed  deltaInfected  Days\n",
              "Date                                                                        \n",
              "21/04/20          Maharashtra    572     232       4669            552    43\n",
              "22/04/20          Maharashtra    722     251       5221            431    44\n",
              "23/04/20          Maharashtra    789     269       5652            778    45\n",
              "24/04/20          Maharashtra    840     283       6430            387    46\n",
              "25/04/20          Maharashtra    957     301       6817            811    47"
            ]
          },
          "metadata": {
            "tags": []
          },
          "execution_count": 13
        }
      ]
    },
    {
      "cell_type": "code",
      "metadata": {
        "id": "R4vrH_zc-MVw",
        "colab_type": "code",
        "colab": {},
        "outputId": "17e2a434-8259-43de-b0ed-3920d3e40db4"
      },
      "source": [
        "#announced on 24th march so we assume effects start from 25th\n",
        "lockdown_announce = '24/03/20'\n",
        "lockdown_start = '25/03/20' \n",
        "\n",
        "preLockdown = state[:lockdown_announce]\n",
        "postLockdown = state[lockdown_start:]\n",
        "preLockdown"
      ],
      "execution_count": 0,
      "outputs": [
        {
          "output_type": "execute_result",
          "data": {
            "text/html": [
              "<div>\n",
              "<style scoped>\n",
              "    .dataframe tbody tr th:only-of-type {\n",
              "        vertical-align: middle;\n",
              "    }\n",
              "\n",
              "    .dataframe tbody tr th {\n",
              "        vertical-align: top;\n",
              "    }\n",
              "\n",
              "    .dataframe thead th {\n",
              "        text-align: right;\n",
              "    }\n",
              "</style>\n",
              "<table border=\"1\" class=\"dataframe\">\n",
              "  <thead>\n",
              "    <tr style=\"text-align: right;\">\n",
              "      <th></th>\n",
              "      <th>State/UnionTerritory</th>\n",
              "      <th>Cured</th>\n",
              "      <th>Deaths</th>\n",
              "      <th>Confirmed</th>\n",
              "      <th>deltaInfected</th>\n",
              "      <th>Days</th>\n",
              "    </tr>\n",
              "    <tr>\n",
              "      <th>Date</th>\n",
              "      <th></th>\n",
              "      <th></th>\n",
              "      <th></th>\n",
              "      <th></th>\n",
              "      <th></th>\n",
              "      <th></th>\n",
              "    </tr>\n",
              "  </thead>\n",
              "  <tbody>\n",
              "    <tr>\n",
              "      <th>09/03/20</th>\n",
              "      <td>Maharashtra</td>\n",
              "      <td>0</td>\n",
              "      <td>0</td>\n",
              "      <td>2</td>\n",
              "      <td>3</td>\n",
              "      <td>0</td>\n",
              "    </tr>\n",
              "    <tr>\n",
              "      <th>10/03/20</th>\n",
              "      <td>Maharashtra</td>\n",
              "      <td>0</td>\n",
              "      <td>0</td>\n",
              "      <td>5</td>\n",
              "      <td>-3</td>\n",
              "      <td>1</td>\n",
              "    </tr>\n",
              "    <tr>\n",
              "      <th>11/03/20</th>\n",
              "      <td>Maharashtra</td>\n",
              "      <td>0</td>\n",
              "      <td>0</td>\n",
              "      <td>2</td>\n",
              "      <td>9</td>\n",
              "      <td>2</td>\n",
              "    </tr>\n",
              "    <tr>\n",
              "      <th>12/03/20</th>\n",
              "      <td>Maharashtra</td>\n",
              "      <td>0</td>\n",
              "      <td>0</td>\n",
              "      <td>11</td>\n",
              "      <td>3</td>\n",
              "      <td>3</td>\n",
              "    </tr>\n",
              "    <tr>\n",
              "      <th>13/03/20</th>\n",
              "      <td>Maharashtra</td>\n",
              "      <td>0</td>\n",
              "      <td>0</td>\n",
              "      <td>14</td>\n",
              "      <td>0</td>\n",
              "      <td>4</td>\n",
              "    </tr>\n",
              "    <tr>\n",
              "      <th>14/03/20</th>\n",
              "      <td>Maharashtra</td>\n",
              "      <td>0</td>\n",
              "      <td>0</td>\n",
              "      <td>14</td>\n",
              "      <td>18</td>\n",
              "      <td>5</td>\n",
              "    </tr>\n",
              "    <tr>\n",
              "      <th>15/03/20</th>\n",
              "      <td>Maharashtra</td>\n",
              "      <td>0</td>\n",
              "      <td>0</td>\n",
              "      <td>32</td>\n",
              "      <td>0</td>\n",
              "      <td>6</td>\n",
              "    </tr>\n",
              "    <tr>\n",
              "      <th>16/03/20</th>\n",
              "      <td>Maharashtra</td>\n",
              "      <td>0</td>\n",
              "      <td>0</td>\n",
              "      <td>32</td>\n",
              "      <td>7</td>\n",
              "      <td>7</td>\n",
              "    </tr>\n",
              "    <tr>\n",
              "      <th>17/03/20</th>\n",
              "      <td>Maharashtra</td>\n",
              "      <td>0</td>\n",
              "      <td>1</td>\n",
              "      <td>39</td>\n",
              "      <td>3</td>\n",
              "      <td>8</td>\n",
              "    </tr>\n",
              "    <tr>\n",
              "      <th>18/03/20</th>\n",
              "      <td>Maharashtra</td>\n",
              "      <td>0</td>\n",
              "      <td>1</td>\n",
              "      <td>42</td>\n",
              "      <td>5</td>\n",
              "      <td>9</td>\n",
              "    </tr>\n",
              "    <tr>\n",
              "      <th>19/03/20</th>\n",
              "      <td>Maharashtra</td>\n",
              "      <td>0</td>\n",
              "      <td>1</td>\n",
              "      <td>47</td>\n",
              "      <td>5</td>\n",
              "      <td>10</td>\n",
              "    </tr>\n",
              "    <tr>\n",
              "      <th>20/03/20</th>\n",
              "      <td>Maharashtra</td>\n",
              "      <td>0</td>\n",
              "      <td>1</td>\n",
              "      <td>52</td>\n",
              "      <td>11</td>\n",
              "      <td>11</td>\n",
              "    </tr>\n",
              "    <tr>\n",
              "      <th>21/03/20</th>\n",
              "      <td>Maharashtra</td>\n",
              "      <td>0</td>\n",
              "      <td>1</td>\n",
              "      <td>63</td>\n",
              "      <td>4</td>\n",
              "      <td>12</td>\n",
              "    </tr>\n",
              "    <tr>\n",
              "      <th>22/03/20</th>\n",
              "      <td>Maharashtra</td>\n",
              "      <td>0</td>\n",
              "      <td>2</td>\n",
              "      <td>67</td>\n",
              "      <td>7</td>\n",
              "      <td>13</td>\n",
              "    </tr>\n",
              "    <tr>\n",
              "      <th>23/03/20</th>\n",
              "      <td>Maharashtra</td>\n",
              "      <td>0</td>\n",
              "      <td>2</td>\n",
              "      <td>74</td>\n",
              "      <td>15</td>\n",
              "      <td>14</td>\n",
              "    </tr>\n",
              "    <tr>\n",
              "      <th>24/03/20</th>\n",
              "      <td>Maharashtra</td>\n",
              "      <td>0</td>\n",
              "      <td>2</td>\n",
              "      <td>89</td>\n",
              "      <td>39</td>\n",
              "      <td>15</td>\n",
              "    </tr>\n",
              "  </tbody>\n",
              "</table>\n",
              "</div>"
            ],
            "text/plain": [
              "         State/UnionTerritory  Cured  Deaths  Confirmed  deltaInfected  Days\n",
              "Date                                                                        \n",
              "09/03/20          Maharashtra      0       0          2              3     0\n",
              "10/03/20          Maharashtra      0       0          5             -3     1\n",
              "11/03/20          Maharashtra      0       0          2              9     2\n",
              "12/03/20          Maharashtra      0       0         11              3     3\n",
              "13/03/20          Maharashtra      0       0         14              0     4\n",
              "14/03/20          Maharashtra      0       0         14             18     5\n",
              "15/03/20          Maharashtra      0       0         32              0     6\n",
              "16/03/20          Maharashtra      0       0         32              7     7\n",
              "17/03/20          Maharashtra      0       1         39              3     8\n",
              "18/03/20          Maharashtra      0       1         42              5     9\n",
              "19/03/20          Maharashtra      0       1         47              5    10\n",
              "20/03/20          Maharashtra      0       1         52             11    11\n",
              "21/03/20          Maharashtra      0       1         63              4    12\n",
              "22/03/20          Maharashtra      0       2         67              7    13\n",
              "23/03/20          Maharashtra      0       2         74             15    14\n",
              "24/03/20          Maharashtra      0       2         89             39    15"
            ]
          },
          "metadata": {
            "tags": []
          },
          "execution_count": 14
        }
      ]
    },
    {
      "cell_type": "code",
      "metadata": {
        "id": "6ClDZpm9-MVy",
        "colab_type": "code",
        "colab": {},
        "outputId": "4c1a8c6a-bb85-4895-e61a-2f6030104c31"
      },
      "source": [
        "preLockdown.plot(y='deltaInfected', figsize=(10, 6), title = \"Changes in infection numbers before lockdown\")"
      ],
      "execution_count": 0,
      "outputs": [
        {
          "output_type": "execute_result",
          "data": {
            "text/plain": [
              "<matplotlib.axes._subplots.AxesSubplot at 0x10bf24f28>"
            ]
          },
          "metadata": {
            "tags": []
          },
          "execution_count": 24
        },
        {
          "output_type": "display_data",
          "data": {
            "image/png": "[encoded data removed]",
            "text/plain": [
              "<Figure size 720x432 with 1 Axes>"
            ]
          },
          "metadata": {
            "tags": [],
            "needs_background": "light"
          }
        }
      ]
    },
    {
      "cell_type": "code",
      "metadata": {
        "id": "9ycILk8N-MV1",
        "colab_type": "code",
        "colab": {},
        "outputId": "dd541ab6-336d-42b5-8d09-585f5d6f7425"
      },
      "source": [
        "postLockdown.plot(y='deltaInfected', figsize=(10, 6), title = \"Changes in infection numbers after lockdown\")"
      ],
      "execution_count": 0,
      "outputs": [
        {
          "output_type": "execute_result",
          "data": {
            "text/plain": [
              "<matplotlib.axes._subplots.AxesSubplot at 0x1223333c8>"
            ]
          },
          "metadata": {
            "tags": []
          },
          "execution_count": 25
        },
        {
          "output_type": "display_data",
          "data": {
            "image/png": "[encoded data removed]",
            "text/plain": [
              "<Figure size 720x432 with 1 Axes>"
            ]
          },
          "metadata": {
            "tags": [],
            "needs_background": "light"
          }
        }
      ]
    },
    {
      "cell_type": "code",
      "metadata": {
        "id": "-tAgd1rG-MV4",
        "colab_type": "code",
        "colab": {}
      },
      "source": [
        "# ALTERNATIVE CALCULATION\n",
        "# def getBeta(state):\n",
        "#     state['beta'] = (1/4) + (state['deltaInfected']/state['Confirmed'])\n",
        "#     return state\n",
        "# preLockdown = getBeta(preLockdown)\n",
        "# postLockdown = getBeta(postLockdown)\n",
        "# preAvg = preLockdown.sum(axis=0, skipna=True)['beta']/len(preLockdown)\n",
        "# postAvg = postLockdown.sum(axis=0, skipna=True)['beta']/len(postLockdown)\n",
        "# print(preAvg, postAvg)"
      ],
      "execution_count": 0,
      "outputs": []
    },
    {
      "cell_type": "markdown",
      "metadata": {
        "id": "CCV2x64o-MV5",
        "colab_type": "text"
      },
      "source": [
        "####  Making a crucial assumption below. \n",
        "#### Considering that total number of susceptible people is large enough  such that it is comparable to the population of the state or of similar magnitude. \n",
        "#### This removes the dS/n term from the equation"
      ]
    },
    {
      "cell_type": "code",
      "metadata": {
        "id": "_aC4J_rC-MV6",
        "colab_type": "code",
        "colab": {}
      },
      "source": [
        "def deltaInfected_SIR(Confirmed, beta):\n",
        "    gamma = 1/14 # keep this constant; could try to optimize this as well\n",
        "    dI = beta*Confirmed - gamma*Confirmed\n",
        "    return dI"
      ],
      "execution_count": 0,
      "outputs": []
    },
    {
      "cell_type": "code",
      "metadata": {
        "id": "hX5Pm8Eu-MV8",
        "colab_type": "code",
        "colab": {},
        "outputId": "f3c4b311-70c4-4598-f1c0-4530eac5fae6"
      },
      "source": [
        "optParams, covMatrix = curve_fit(deltaInfected_SIR, preLockdown['Confirmed'], preLockdown['deltaInfected'], maxfev=5000)\n",
        "preBeta = optParams\n",
        "\n",
        "print(\"Prelockdown beta is {}\".format(preBeta))"
      ],
      "execution_count": 0,
      "outputs": [
        {
          "output_type": "stream",
          "text": [
            "Prelockdown beta is [0.28443436]\n"
          ],
          "name": "stdout"
        }
      ]
    },
    {
      "cell_type": "code",
      "metadata": {
        "id": "bp-WOyv8-MV-",
        "colab_type": "code",
        "colab": {},
        "outputId": "05484f43-555d-49d8-c266-e7bbeadf1812"
      },
      "source": [
        "optParams2, covMatrix2 = curve_fit(deltaInfected_SIR, postLockdown['Confirmed'], postLockdown['deltaInfected'], maxfev=5000)\n",
        "postBeta = optParams2\n",
        "\n",
        "print(\"Postlockdown beta is {}\".format(postBeta))"
      ],
      "execution_count": 0,
      "outputs": [
        {
          "output_type": "stream",
          "text": [
            "Postlockdown beta is [0.1776951]\n"
          ],
          "name": "stdout"
        }
      ]
    },
    {
      "cell_type": "markdown",
      "metadata": {
        "id": "Rt1TBh_Z-MWA",
        "colab_type": "text"
      },
      "source": [
        "## Clearly shows a drop in the value of β."
      ]
    },
    {
      "cell_type": "markdown",
      "metadata": {
        "id": "O9YzYVJC-MWA",
        "colab_type": "text"
      },
      "source": [
        "Now we compare to the preLockdown numbers."
      ]
    },
    {
      "cell_type": "code",
      "metadata": {
        "id": "YqexK6zn-MWA",
        "colab_type": "code",
        "colab": {}
      },
      "source": [
        "# this gives the new deltas in infected numbers\n",
        "y_fitted = deltaInfected_SIR(preLockdown['Confirmed'], preBeta)"
      ],
      "execution_count": 0,
      "outputs": []
    },
    {
      "cell_type": "code",
      "metadata": {
        "id": "Rq-ZeW3i-MWD",
        "colab_type": "code",
        "colab": {},
        "outputId": "e6f0a4db-36ef-4470-a0a8-b55662df6440"
      },
      "source": [
        "fig = plt.figure(figsize=(10, 6))\n",
        "ax = fig.add_subplot(111)\n",
        "ax.plot(preLockdown['Days'], y_fitted, '--', label='fitted', color = 'r')\n",
        "ax.plot(preLockdown['Days'], preLockdown['deltaInfected'], '--', label='Confirmed Data', color = 'b')"
      ],
      "execution_count": 0,
      "outputs": [
        {
          "output_type": "execute_result",
          "data": {
            "text/plain": [
              "[<matplotlib.lines.Line2D at 0x13a44d978>]"
            ]
          },
          "metadata": {
            "tags": []
          },
          "execution_count": 36
        },
        {
          "output_type": "display_data",
          "data": {
            "image/png": "[encoded data removed]",
            "text/plain": [
              "<Figure size 720x432 with 1 Axes>"
            ]
          },
          "metadata": {
            "tags": [],
            "needs_background": "light"
          }
        }
      ]
    },
    {
      "cell_type": "markdown",
      "metadata": {
        "id": "7eDW3p1_-MWE",
        "colab_type": "text"
      },
      "source": [
        "We now calculate the confirmations based on the general beta before the lockdown"
      ]
    },
    {
      "cell_type": "code",
      "metadata": {
        "id": "NhtVspEq-MWF",
        "colab_type": "code",
        "colab": {}
      },
      "source": [
        "newConfirmed = []\n",
        "sum = 0\n",
        "for x in y_fitted:\n",
        "    sum = sum + x\n",
        "    newConfirmed.append(sum)"
      ],
      "execution_count": 0,
      "outputs": []
    },
    {
      "cell_type": "code",
      "metadata": {
        "id": "w2Lj9eak-MWH",
        "colab_type": "code",
        "colab": {},
        "outputId": "51a37214-99eb-4255-d3d7-1bb5d2819970"
      },
      "source": [
        "fig = plt.figure(figsize=(10, 6))\n",
        "ax = fig.add_subplot(111)\n",
        "ax.plot(preLockdown['Days'], preLockdown['Confirmed'], '--', label='fitted', color = 'r')\n",
        "ax.plot(preLockdown['Days'], newConfirmed, '--', label='Confirmed Data', color = 'b')"
      ],
      "execution_count": 0,
      "outputs": [
        {
          "output_type": "execute_result",
          "data": {
            "text/plain": [
              "[<matplotlib.lines.Line2D at 0x13a659908>]"
            ]
          },
          "metadata": {
            "tags": []
          },
          "execution_count": 38
        },
        {
          "output_type": "display_data",
          "data": {
            "image/png": "[encoded data removed]",
            "text/plain": [
              "<Figure size 720x432 with 1 Axes>"
            ]
          },
          "metadata": {
            "tags": [],
            "needs_background": "light"
          }
        }
      ]
    },
    {
      "cell_type": "markdown",
      "metadata": {
        "id": "ahc6sYSu-MWI",
        "colab_type": "text"
      },
      "source": [
        "The difference at the end of 15 days here is not an error. "
      ]
    },
    {
      "cell_type": "code",
      "metadata": {
        "id": "Ue7vhzuV-MWJ",
        "colab_type": "code",
        "colab": {},
        "outputId": "1cc6444e-1357-40f4-a541-78c8746530fa"
      },
      "source": [
        "postLockdown.head()"
      ],
      "execution_count": 0,
      "outputs": [
        {
          "output_type": "execute_result",
          "data": {
            "text/html": [
              "<div>\n",
              "<style scoped>\n",
              "    .dataframe tbody tr th:only-of-type {\n",
              "        vertical-align: middle;\n",
              "    }\n",
              "\n",
              "    .dataframe tbody tr th {\n",
              "        vertical-align: top;\n",
              "    }\n",
              "\n",
              "    .dataframe thead th {\n",
              "        text-align: right;\n",
              "    }\n",
              "</style>\n",
              "<table border=\"1\" class=\"dataframe\">\n",
              "  <thead>\n",
              "    <tr style=\"text-align: right;\">\n",
              "      <th></th>\n",
              "      <th>State/UnionTerritory</th>\n",
              "      <th>Cured</th>\n",
              "      <th>Deaths</th>\n",
              "      <th>Confirmed</th>\n",
              "      <th>deltaInfected</th>\n",
              "      <th>Days</th>\n",
              "    </tr>\n",
              "    <tr>\n",
              "      <th>Date</th>\n",
              "      <th></th>\n",
              "      <th></th>\n",
              "      <th></th>\n",
              "      <th></th>\n",
              "      <th></th>\n",
              "      <th></th>\n",
              "    </tr>\n",
              "  </thead>\n",
              "  <tbody>\n",
              "    <tr>\n",
              "      <th>25/03/20</th>\n",
              "      <td>Maharashtra</td>\n",
              "      <td>1</td>\n",
              "      <td>3</td>\n",
              "      <td>128</td>\n",
              "      <td>-4</td>\n",
              "      <td>16</td>\n",
              "    </tr>\n",
              "    <tr>\n",
              "      <th>26/03/20</th>\n",
              "      <td>Maharashtra</td>\n",
              "      <td>1</td>\n",
              "      <td>3</td>\n",
              "      <td>124</td>\n",
              "      <td>6</td>\n",
              "      <td>17</td>\n",
              "    </tr>\n",
              "    <tr>\n",
              "      <th>27/03/20</th>\n",
              "      <td>Maharashtra</td>\n",
              "      <td>15</td>\n",
              "      <td>4</td>\n",
              "      <td>130</td>\n",
              "      <td>50</td>\n",
              "      <td>18</td>\n",
              "    </tr>\n",
              "    <tr>\n",
              "      <th>28/03/20</th>\n",
              "      <td>Maharashtra</td>\n",
              "      <td>25</td>\n",
              "      <td>5</td>\n",
              "      <td>180</td>\n",
              "      <td>6</td>\n",
              "      <td>19</td>\n",
              "    </tr>\n",
              "    <tr>\n",
              "      <th>29/03/20</th>\n",
              "      <td>Maharashtra</td>\n",
              "      <td>25</td>\n",
              "      <td>6</td>\n",
              "      <td>186</td>\n",
              "      <td>12</td>\n",
              "      <td>20</td>\n",
              "    </tr>\n",
              "  </tbody>\n",
              "</table>\n",
              "</div>"
            ],
            "text/plain": [
              "         State/UnionTerritory  Cured  Deaths  Confirmed  deltaInfected  Days\n",
              "Date                                                                        \n",
              "25/03/20          Maharashtra      1       3        128             -4    16\n",
              "26/03/20          Maharashtra      1       3        124              6    17\n",
              "27/03/20          Maharashtra     15       4        130             50    18\n",
              "28/03/20          Maharashtra     25       5        180              6    19\n",
              "29/03/20          Maharashtra     25       6        186             12    20"
            ]
          },
          "metadata": {
            "tags": []
          },
          "execution_count": 39
        }
      ]
    },
    {
      "cell_type": "markdown",
      "metadata": {
        "id": "wDU-CYy_-MWL",
        "colab_type": "text"
      },
      "source": [
        "## We now see predictions in the number of Confirmed cases and the Delta in infections had the β remained the same i.e. no lockdown was imposed."
      ]
    },
    {
      "cell_type": "code",
      "metadata": {
        "id": "QND2gQXd-MWL",
        "colab_type": "code",
        "colab": {}
      },
      "source": [
        "postDay1_Confirm = np.sum(y_fitted)\n",
        "def predictionsPost(beta, length, postDay1_Confirm):\n",
        "    gamma = 1/14\n",
        "    newDeltas = []\n",
        "    newConfirms = []\n",
        "    newConfirms.append(postDay1_Confirm)\n",
        "    for x in range(length):\n",
        "        dI = beta*newConfirms[x] - gamma*newConfirms[x]\n",
        "        newDeltas.append(dI)\n",
        "        newConfirms.append(newConfirms[x]+dI)\n",
        "    return newConfirms, newDeltas"
      ],
      "execution_count": 0,
      "outputs": []
    },
    {
      "cell_type": "code",
      "metadata": {
        "id": "EygAkNpl-MWM",
        "colab_type": "code",
        "colab": {}
      },
      "source": [
        "predicted_Confirms, predicted_Deltas = predictionsPost(preBeta, len(postLockdown), postDay1_Confirm)"
      ],
      "execution_count": 0,
      "outputs": []
    },
    {
      "cell_type": "code",
      "metadata": {
        "id": "kEeIYybP-MWO",
        "colab_type": "code",
        "colab": {}
      },
      "source": [
        "preds= []\n",
        "preds.append(predicted_Confirms[0])\n",
        "for x in range(1,len(predicted_Confirms)):\n",
        "    val = predicted_Confirms[x][0]\n",
        "    preds.append(val)\n",
        "del preds[-1]\n",
        "# preds"
      ],
      "execution_count": 0,
      "outputs": []
    },
    {
      "cell_type": "code",
      "metadata": {
        "id": "ejPaxb0N-MWR",
        "colab_type": "code",
        "colab": {}
      },
      "source": [
        "delts = []\n",
        "for x in range(0,len(predicted_Deltas)):\n",
        "    val = predicted_Deltas[x][0]\n",
        "    delts.append(val)\n",
        "# delts"
      ],
      "execution_count": 0,
      "outputs": []
    },
    {
      "cell_type": "code",
      "metadata": {
        "id": "UY4Smknp-MWT",
        "colab_type": "code",
        "colab": {},
        "outputId": "325514d6-35c5-445a-f077-50daefbac6ae"
      },
      "source": [
        "fig = plt.figure(figsize=(10, 6))\n",
        "ax = fig.add_subplot(111)\n",
        "ax.plot(postLockdown['Days'], postLockdown['Confirmed'], '--', label='fitted', color = 'r')\n",
        "ax.plot(postLockdown['Days'], preds, '--', label='Confirmed Data', color = 'b')\n",
        "# x axis is simply days after March 9"
      ],
      "execution_count": 0,
      "outputs": [
        {
          "output_type": "execute_result",
          "data": {
            "text/plain": [
              "[<matplotlib.lines.Line2D at 0x13aec89b0>]"
            ]
          },
          "metadata": {
            "tags": []
          },
          "execution_count": 50
        },
        {
          "output_type": "display_data",
          "data": {
            "image/png": "[encoded data removed]",
            "text/plain": [
              "<Figure size 720x432 with 1 Axes>"
            ]
          },
          "metadata": {
            "tags": [],
            "needs_background": "light"
          }
        }
      ]
    },
    {
      "cell_type": "markdown",
      "metadata": {
        "id": "86sVfRdH-MWV",
        "colab_type": "text"
      },
      "source": [
        "### The above shows that without a lockdown (blue), the number of confirmed cases would rise exponentially."
      ]
    }
  ]
}